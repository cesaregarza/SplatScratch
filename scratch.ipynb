{
 "cells": [
  {
   "cell_type": "code",
   "execution_count": 1,
   "metadata": {},
   "outputs": [],
   "source": [
    "import requests\n",
    "from scraping.splatoon3_ink import list_all_links_recursive"
   ]
  },
  {
   "cell_type": "code",
   "execution_count": 3,
   "metadata": {},
   "outputs": [
    {
     "name": "stdout",
     "output_type": "stream",
     "text": [
      "Getting soup for https://splatoon3.ink/data/archive/?prefix=2023/07/10/\r"
     ]
    }
   ],
   "source": [
    "all_links = list_all_links_recursive()\n",
    "with open(\"links.txt\", \"w\") as f:\n",
    "    f.write(\"\\n\".join(all_links))"
   ]
  },
  {
   "cell_type": "code",
   "execution_count": 3,
   "metadata": {},
   "outputs": [
    {
     "data": {
      "text/plain": [
       "[]"
      ]
     },
     "execution_count": 3,
     "metadata": {},
     "output_type": "execute_result"
    }
   ],
   "source": [
    "all_links"
   ]
  },
  {
   "cell_type": "code",
   "execution_count": 5,
   "metadata": {},
   "outputs": [],
   "source": [
    "import scrapy\n",
    "import os\n",
    "import json\n",
    "from urllib.parse import urlparse\n",
    "\n",
    "class JsonDownloadSpider(scrapy.Spider):\n",
    "    name = \"jsondownload\"\n",
    "    start_urls = all_links\n",
    "    custom_settings = {\n",
    "        'CONCURRENT_REQUESTS': 16,\n",
    "        'DOWNLOAD_DELAY': 3\n",
    "    }\n",
    "\n",
    "    def parse(self, response):\n",
    "        base_dir =  \"data/splatoon3_ink\"\n",
    "        link = response.url\n",
    "        filename = os.path.basename(urlparse(link).path)\n",
    "        year, month, day = filename.split(\".\")[0].split(\"-\")\n",
    "        directory = f\"{base_dir}/{year}/{month}/{day}\"\n",
    "        if \"xrank\" in filename:\n",
    "            directory += \"/xrank\"\n",
    "        path = f\"{directory}/{filename}\"\n",
    "        if not os.path.exists(path):\n",
    "            if not os.path.exists(directory):\n",
    "                os.makedirs(directory)\n",
    "            data = json.loads(response.text)\n",
    "            with open(path, \"w\") as f:\n",
    "                json.dump(data, f)\n"
   ]
  },
  {
   "cell_type": "code",
   "execution_count": null,
   "metadata": {},
   "outputs": [],
   "source": []
  }
 ],
 "metadata": {
  "kernelspec": {
   "display_name": "SplatScratch",
   "language": "python",
   "name": "python3"
  },
  "language_info": {
   "codemirror_mode": {
    "name": "ipython",
    "version": 3
   },
   "file_extension": ".py",
   "mimetype": "text/x-python",
   "name": "python",
   "nbconvert_exporter": "python",
   "pygments_lexer": "ipython3",
   "version": "3.11.3"
  },
  "orig_nbformat": 4
 },
 "nbformat": 4,
 "nbformat_minor": 2
}
