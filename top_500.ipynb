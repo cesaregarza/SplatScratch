{
 "cells": [
  {
   "cell_type": "code",
   "execution_count": 1,
   "metadata": {},
   "outputs": [],
   "source": [
    "from parsing.splatoon3_ink.parse import *\n",
    "from parsing.splatoon3_ink.schedules import build_x_schedule_reference\n",
    "import sqlalchemy as db"
   ]
  },
  {
   "cell_type": "code",
   "execution_count": 2,
   "metadata": {},
   "outputs": [],
   "source": [
    "# Create a sqlite database\n",
    "engine = db.create_engine(\"sqlite:///data/splatoon3_ink.db\")\n",
    "connection = engine.connect()"
   ]
  },
  {
   "cell_type": "code",
   "execution_count": 3,
   "metadata": {},
   "outputs": [
    {
     "name": "stderr",
     "output_type": "stream",
     "text": [
      "  0%|          | 0/4712 [00:00<?, ?it/s]"
     ]
    },
    {
     "name": "stderr",
     "output_type": "stream",
     "text": [
      "100%|██████████| 4712/4712 [00:03<00:00, 1372.56it/s]\n"
     ]
    }
   ],
   "source": [
    "schedule_df = build_x_schedule_reference()"
   ]
  },
  {
   "cell_type": "code",
   "execution_count": 4,
   "metadata": {},
   "outputs": [
    {
     "data": {
      "text/html": [
       "<div>\n",
       "<style scoped>\n",
       "    .dataframe tbody tr th:only-of-type {\n",
       "        vertical-align: middle;\n",
       "    }\n",
       "\n",
       "    .dataframe tbody tr th {\n",
       "        vertical-align: top;\n",
       "    }\n",
       "\n",
       "    .dataframe thead th {\n",
       "        text-align: right;\n",
       "    }\n",
       "</style>\n",
       "<table border=\"1\" class=\"dataframe\">\n",
       "  <thead>\n",
       "    <tr style=\"text-align: right;\">\n",
       "      <th></th>\n",
       "      <th>end_time</th>\n",
       "      <th>rule</th>\n",
       "      <th>stage_1</th>\n",
       "      <th>stage_2</th>\n",
       "    </tr>\n",
       "    <tr>\n",
       "      <th>start_time</th>\n",
       "      <th></th>\n",
       "      <th></th>\n",
       "      <th></th>\n",
       "      <th></th>\n",
       "    </tr>\n",
       "  </thead>\n",
       "  <tbody>\n",
       "    <tr>\n",
       "      <th>2023-01-01 00:00:00+00:00</th>\n",
       "      <td>2023-01-01 02:00:00+00:00</td>\n",
       "      <td>splatzones</td>\n",
       "      <td>Hagglefish Market</td>\n",
       "      <td>MakoMart</td>\n",
       "    </tr>\n",
       "    <tr>\n",
       "      <th>2023-01-01 02:00:00+00:00</th>\n",
       "      <td>2023-01-01 04:00:00+00:00</td>\n",
       "      <td>clamblitz</td>\n",
       "      <td>Flounder Heights</td>\n",
       "      <td>Mahi-Mahi Resort</td>\n",
       "    </tr>\n",
       "    <tr>\n",
       "      <th>2023-01-01 04:00:00+00:00</th>\n",
       "      <td>2023-01-01 06:00:00+00:00</td>\n",
       "      <td>rainmaker</td>\n",
       "      <td>Brinewater Springs</td>\n",
       "      <td>Sturgeon Shipyard</td>\n",
       "    </tr>\n",
       "    <tr>\n",
       "      <th>2023-01-01 06:00:00+00:00</th>\n",
       "      <td>2023-01-01 08:00:00+00:00</td>\n",
       "      <td>towercontrol</td>\n",
       "      <td>Eeltail Alley</td>\n",
       "      <td>MakoMart</td>\n",
       "    </tr>\n",
       "    <tr>\n",
       "      <th>2023-01-01 08:00:00+00:00</th>\n",
       "      <td>2023-01-01 10:00:00+00:00</td>\n",
       "      <td>splatzones</td>\n",
       "      <td>Undertow Spillway</td>\n",
       "      <td>Mincemeat Metalworks</td>\n",
       "    </tr>\n",
       "    <tr>\n",
       "      <th>...</th>\n",
       "      <td>...</td>\n",
       "      <td>...</td>\n",
       "      <td>...</td>\n",
       "      <td>...</td>\n",
       "    </tr>\n",
       "    <tr>\n",
       "      <th>2023-07-16 22:00:00+00:00</th>\n",
       "      <td>2023-07-17 00:00:00+00:00</td>\n",
       "      <td>Splatfest</td>\n",
       "      <td>Splatfest</td>\n",
       "      <td>Splatfest</td>\n",
       "    </tr>\n",
       "    <tr>\n",
       "      <th>2023-07-17 00:00:00+00:00</th>\n",
       "      <td>2023-07-17 02:00:00+00:00</td>\n",
       "      <td>rainmaker</td>\n",
       "      <td>Hagglefish Market</td>\n",
       "      <td>Mincemeat Metalworks</td>\n",
       "    </tr>\n",
       "    <tr>\n",
       "      <th>2023-07-17 02:00:00+00:00</th>\n",
       "      <td>2023-07-17 04:00:00+00:00</td>\n",
       "      <td>towercontrol</td>\n",
       "      <td>Flounder Heights</td>\n",
       "      <td>Wahoo World</td>\n",
       "    </tr>\n",
       "    <tr>\n",
       "      <th>2023-07-17 04:00:00+00:00</th>\n",
       "      <td>2023-07-17 06:00:00+00:00</td>\n",
       "      <td>splatzones</td>\n",
       "      <td>Museum d'Alfonsino</td>\n",
       "      <td>MakoMart</td>\n",
       "    </tr>\n",
       "    <tr>\n",
       "      <th>2023-07-17 06:00:00+00:00</th>\n",
       "      <td>2023-07-17 08:00:00+00:00</td>\n",
       "      <td>clamblitz</td>\n",
       "      <td>Um'ami Ruins</td>\n",
       "      <td>Humpback Pump Track</td>\n",
       "    </tr>\n",
       "  </tbody>\n",
       "</table>\n",
       "<p>2347 rows × 4 columns</p>\n",
       "</div>"
      ],
      "text/plain": [
       "                                           end_time          rule  \\\n",
       "start_time                                                          \n",
       "2023-01-01 00:00:00+00:00 2023-01-01 02:00:00+00:00    splatzones   \n",
       "2023-01-01 02:00:00+00:00 2023-01-01 04:00:00+00:00     clamblitz   \n",
       "2023-01-01 04:00:00+00:00 2023-01-01 06:00:00+00:00     rainmaker   \n",
       "2023-01-01 06:00:00+00:00 2023-01-01 08:00:00+00:00  towercontrol   \n",
       "2023-01-01 08:00:00+00:00 2023-01-01 10:00:00+00:00    splatzones   \n",
       "...                                             ...           ...   \n",
       "2023-07-16 22:00:00+00:00 2023-07-17 00:00:00+00:00     Splatfest   \n",
       "2023-07-17 00:00:00+00:00 2023-07-17 02:00:00+00:00     rainmaker   \n",
       "2023-07-17 02:00:00+00:00 2023-07-17 04:00:00+00:00  towercontrol   \n",
       "2023-07-17 04:00:00+00:00 2023-07-17 06:00:00+00:00    splatzones   \n",
       "2023-07-17 06:00:00+00:00 2023-07-17 08:00:00+00:00     clamblitz   \n",
       "\n",
       "                                      stage_1               stage_2  \n",
       "start_time                                                           \n",
       "2023-01-01 00:00:00+00:00   Hagglefish Market              MakoMart  \n",
       "2023-01-01 02:00:00+00:00    Flounder Heights      Mahi-Mahi Resort  \n",
       "2023-01-01 04:00:00+00:00  Brinewater Springs     Sturgeon Shipyard  \n",
       "2023-01-01 06:00:00+00:00       Eeltail Alley              MakoMart  \n",
       "2023-01-01 08:00:00+00:00   Undertow Spillway  Mincemeat Metalworks  \n",
       "...                                       ...                   ...  \n",
       "2023-07-16 22:00:00+00:00           Splatfest             Splatfest  \n",
       "2023-07-17 00:00:00+00:00   Hagglefish Market  Mincemeat Metalworks  \n",
       "2023-07-17 02:00:00+00:00    Flounder Heights           Wahoo World  \n",
       "2023-07-17 04:00:00+00:00  Museum d'Alfonsino              MakoMart  \n",
       "2023-07-17 06:00:00+00:00        Um'ami Ruins   Humpback Pump Track  \n",
       "\n",
       "[2347 rows x 4 columns]"
      ]
     },
     "execution_count": 4,
     "metadata": {},
     "output_type": "execute_result"
    }
   ],
   "source": [
    "schedule_df"
   ]
  },
  {
   "cell_type": "code",
   "execution_count": 5,
   "metadata": {},
   "outputs": [
    {
     "data": {
      "text/plain": [
       "[(datetime.datetime(2023, 2, 12, 17, 26, 42),\n",
       "  'a-2',\n",
       "  'splatzones',\n",
       "  'data/splatoon3_ink/2023/02/12/xrank/2023-02-12.17-26-42.xrank.detail.a-2.splatzones.json'),\n",
       " (datetime.datetime(2023, 2, 12, 17, 27, 2),\n",
       "  'a-2',\n",
       "  'clamblitz',\n",
       "  'data/splatoon3_ink/2023/02/12/xrank/2023-02-12.17-27-02.xrank.detail.a-2.clamblitz.json'),\n",
       " (datetime.datetime(2023, 2, 12, 17, 27, 22),\n",
       "  'a-2',\n",
       "  'rainmaker',\n",
       "  'data/splatoon3_ink/2023/02/12/xrank/2023-02-12.17-27-22.xrank.detail.a-2.rainmaker.json')]"
      ]
     },
     "execution_count": 5,
     "metadata": {},
     "output_type": "execute_result"
    }
   ],
   "source": [
    "paths = get_paths()\n",
    "paths[:3]"
   ]
  },
  {
   "cell_type": "code",
   "execution_count": 6,
   "metadata": {},
   "outputs": [
    {
     "name": "stderr",
     "output_type": "stream",
     "text": [
      "Paths: 100%|██████████| 1000/1000 [00:44<00:00, 22.43it/s]\n",
      "Paths: 100%|██████████| 1000/1000 [00:42<00:00, 23.37it/s]\n",
      "Paths: 100%|██████████| 1000/1000 [00:42<00:00, 23.33it/s]\n",
      "Paths: 100%|██████████| 1000/1000 [00:40<00:00, 24.53it/s]\n",
      "Paths: 100%|██████████| 1000/1000 [00:35<00:00, 28.23it/s]\n",
      "Paths: 100%|██████████| 1000/1000 [00:43<00:00, 23.10it/s]\n",
      "Paths: 100%|██████████| 1000/1000 [00:43<00:00, 23.07it/s]\n",
      "Paths: 100%|██████████| 1000/1000 [00:43<00:00, 23.20it/s]\n",
      "Paths: 100%|██████████| 1000/1000 [00:43<00:00, 23.10it/s]\n",
      "Paths: 100%|██████████| 1000/1000 [00:43<00:00, 22.95it/s]\n",
      "Paths: 100%|██████████| 1000/1000 [00:43<00:00, 22.99it/s]]\n",
      "Paths: 100%|██████████| 1000/1000 [00:43<00:00, 23.16it/s]]\n",
      "Paths: 100%|██████████| 1000/1000 [00:43<00:00, 22.95it/s]]\n",
      "Paths: 100%|██████████| 1000/1000 [00:43<00:00, 22.92it/s]]\n",
      "Paths: 100%|██████████| 1000/1000 [00:44<00:00, 22.71it/s]]\n",
      "Paths: 100%|██████████| 1000/1000 [00:40<00:00, 24.63it/s]]\n",
      "Paths: 100%|██████████| 1000/1000 [00:43<00:00, 23.02it/s]]\n",
      "Paths: 100%|██████████| 1000/1000 [00:42<00:00, 23.43it/s]]\n",
      "Paths: 100%|██████████| 1000/1000 [00:42<00:00, 23.63it/s]]\n",
      "Paths: 100%|██████████| 1000/1000 [00:42<00:00, 23.63it/s]]\n",
      "Paths: 100%|██████████| 1000/1000 [00:39<00:00, 25.32it/s]]\n",
      "Paths: 100%|██████████| 1000/1000 [00:41<00:00, 24.06it/s]]\n",
      "Paths: 100%|██████████| 1000/1000 [00:41<00:00, 24.36it/s]]\n",
      "Paths: 100%|██████████| 1000/1000 [00:41<00:00, 24.26it/s]]\n",
      "Paths: 100%|██████████| 1000/1000 [00:41<00:00, 24.01it/s]]\n",
      "Paths: 100%|██████████| 1000/1000 [00:40<00:00, 24.49it/s]]\n",
      "Paths: 100%|██████████| 1000/1000 [00:41<00:00, 24.15it/s]]\n",
      "Paths: 100%|██████████| 1000/1000 [00:42<00:00, 23.60it/s]]\n",
      "Paths: 100%|██████████| 1000/1000 [00:43<00:00, 23.06it/s]]\n",
      "Paths: 100%|██████████| 377/377 [00:15<00:00, 24.45it/s]it]\n",
      "Partitions: 100%|██████████| 30/30 [28:10<00:00, 56.34s/it]\n"
     ]
    }
   ],
   "source": [
    "generate_dataframe(paths, schedule_df, connection, batch_size=1000)"
   ]
  },
  {
   "cell_type": "code",
   "execution_count": 5,
   "metadata": {},
   "outputs": [
    {
     "name": "stderr",
     "output_type": "stream",
     "text": [
      "  0%|          | 0/4712 [00:00<?, ?it/s]"
     ]
    },
    {
     "name": "stderr",
     "output_type": "stream",
     "text": [
      "100%|██████████| 4712/4712 [00:03<00:00, 1427.05it/s]\n",
      "Paths: 100%|██████████| 89/89 [00:03<00:00, 26.46it/s]\n",
      "Partitions: 100%|██████████| 1/1 [00:04<00:00,  4.58s/it]\n"
     ]
    }
   ],
   "source": [
    "schedule_df = build_x_schedule_reference()\n",
    "new_paths = generate_paths(connection)\n",
    "generate_dataframe(new_paths, schedule_df, connection, batch_size=1000)"
   ]
  },
  {
   "cell_type": "code",
   "execution_count": null,
   "metadata": {},
   "outputs": [],
   "source": []
  }
 ],
 "metadata": {
  "kernelspec": {
   "display_name": "SplatScratch",
   "language": "python",
   "name": "python3"
  },
  "language_info": {
   "codemirror_mode": {
    "name": "ipython",
    "version": 3
   },
   "file_extension": ".py",
   "mimetype": "text/x-python",
   "name": "python",
   "nbconvert_exporter": "python",
   "pygments_lexer": "ipython3",
   "version": "3.11.3"
  },
  "orig_nbformat": 4
 },
 "nbformat": 4,
 "nbformat_minor": 2
}
